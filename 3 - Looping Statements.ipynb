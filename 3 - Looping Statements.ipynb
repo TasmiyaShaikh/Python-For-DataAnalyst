{
 "cells": [
  {
   "cell_type": "markdown",
   "id": "a81c1950",
   "metadata": {},
   "source": [
    "# Looping Statements in Python"
   ]
  },
  {
   "cell_type": "raw",
   "id": "3954d1ec",
   "metadata": {},
   "source": [
    "The flow of the programs written in any programming language is sequential by default. The first statement in a function is executed first, followed by the second, and so on. There may be a situation when the programmer needs to execute a block of code several times. For this purpose, The programming languages provide various kinds of loops that are able to repeat some particular code numerous numbers of times.\n",
    "\n",
    "\n",
    "In a programming language, a looping statement contains instructions that continually repeat until a certain condition is reached.\n",
    "\n",
    "In Python, there are three different types of loops: \n",
    "1. while loop\n",
    "2. for loop\n",
    "3. nested loop."
   ]
  },
  {
   "cell_type": "markdown",
   "id": "9fb729fc",
   "metadata": {},
   "source": [
    "# 1. While Loop"
   ]
  },
  {
   "cell_type": "raw",
   "id": "ce61247a",
   "metadata": {},
   "source": [
    "The while loop is to be used in situations where the number of iterations is unknown at first. The block of statements is executed in the while loop until the condition specified in the while loop is satisfied. It is also called a pre-tested loop.\n",
    "\n",
    "\n",
    "Syntax:\n",
    "while condition:\n",
    "       statement(s)"
   ]
  },
  {
   "cell_type": "code",
   "execution_count": null,
   "id": "8eae66b1",
   "metadata": {},
   "outputs": [],
   "source": [
    "#Write a Python program to print the number till user enter range\n",
    "a = int(input(\"Enter the Range\"))\n",
    "i=0 #initialization\n",
    "while i<=a: #Condition\n",
    "    print(\"Current Number is :\",i)\n",
    "    i+=1 #increment or Decrement\n",
    "print(\"Exit From The Loop\")"
   ]
  },
  {
   "cell_type": "code",
   "execution_count": null,
   "id": "524a4991",
   "metadata": {},
   "outputs": [],
   "source": [
    "#Write a Python program to print the number till user enter range in Descending Order\n",
    "a = int(input(\"Enter the Range\"))\n",
    "while a>=0:\n",
    "    print(\"Current Number is \",a)\n",
    "    a-=1\n",
    "print(\"Exit from the Loop\")"
   ]
  },
  {
   "cell_type": "code",
   "execution_count": null,
   "id": "7882b86c",
   "metadata": {},
   "outputs": [],
   "source": [
    "#Write a Python program to sum the value of user entered range\n",
    "num = int(input(\"Enter the Range\"))\n",
    "sum=0\n",
    "i=1\n",
    "while i<=num:\n",
    "    sum+=i\n",
    "    i+=1\n",
    "print(\"The total of\",num,\"is\",sum)"
   ]
  },
  {
   "cell_type": "code",
   "execution_count": null,
   "id": "d8e36636",
   "metadata": {},
   "outputs": [],
   "source": [
    "#program to Calculate the Factorial of a Given Number\n",
    "n = int(input(\"Enter the number: \"))\n",
    "fact=i=1\n",
    "while i<=n:\n",
    "    fact*=i\n",
    "    i+=1\n",
    "print(\"Factorial of\",n,\"is\",fact)\n"
   ]
  },
  {
   "cell_type": "code",
   "execution_count": null,
   "id": "73022498",
   "metadata": {},
   "outputs": [],
   "source": [
    "#program to Calculate the square till the user in the range\n",
    "limit = int(input(\"Enter the number: \"))\n",
    "i=1\n",
    "while i<=limit:\n",
    "    print(\"Square of \",i,\"is\",i*i)\n",
    "    i+=1"
   ]
  },
  {
   "cell_type": "code",
   "execution_count": null,
   "id": "e2d417bd",
   "metadata": {},
   "outputs": [],
   "source": [
    "#program to Calculate the Finding the average of user numbers \n",
    "p = int(input(\"Enter the total numbers to calculate the average\"))\n",
    "sum = 0\n",
    "count = 0\n",
    "i=1\n",
    "while i<=p:\n",
    "    count += 1\n",
    "    f = int(input(\"Enter the number \"))\n",
    "    sum += f   \n",
    "    i+=1\n",
    "    \n",
    "average = sum/count\n",
    "print(\"Average of given Numbers:\",average)"
   ]
  },
  {
   "cell_type": "code",
   "execution_count": null,
   "id": "a7f2db6c",
   "metadata": {},
   "outputs": [],
   "source": [
    "#program to Calculate the sum of Numbers till the user enter Zero\n",
    "sum1=0\n",
    "number=int(input(\"Enter The Number to Calculate sum ,zero to abort\"))\n",
    "while number!=0:\n",
    "    sum1+=number\n",
    "    number=int(input(\"Enter The Number to Calculate sum ,zero to abort\"))\n",
    "print(\"Total is \",sum1)"
   ]
  },
  {
   "cell_type": "markdown",
   "id": "55d8a487",
   "metadata": {},
   "source": [
    "# 2. For loop"
   ]
  },
  {
   "cell_type": "raw",
   "id": "b6d79aa9",
   "metadata": {},
   "source": [
    "In Python, the for loop is used to iterate over a sequence such as a list, string, tuple, other iterable objects such as range.\n",
    "\n",
    "With the help of for loop, we can iterate over each item present in the sequence and executes the same set of operations for each item. Using a for loops in Python we can automate and repeat tasks in an efficient manner\n",
    "\n",
    "For Loop Syntax:\n",
    "\n",
    "for iterator_var in sequence:\n",
    "    statements(s)"
   ]
  },
  {
   "cell_type": "code",
   "execution_count": null,
   "id": "597f8c00",
   "metadata": {},
   "outputs": [],
   "source": [
    "Data = \"Practice Make Perfect\"\n",
    "\n",
    "for x in Data:\n",
    "    print(x,end=\" \")"
   ]
  },
  {
   "cell_type": "markdown",
   "id": "4e74039a",
   "metadata": {},
   "source": [
    "# for loop with range()"
   ]
  },
  {
   "cell_type": "raw",
   "id": "e18c6598",
   "metadata": {},
   "source": [
    "The range() function returns a sequence of numbers starting from 0 (by default) if the initial limit is not specified and it increments by 1 (by default) until a final limit is reached.\n",
    "\n",
    "The range() function is used with a loop to specify the range (how many times) the code block will be executed. Let us see with an example."
   ]
  },
  {
   "cell_type": "code",
   "execution_count": null,
   "id": "72c4c833",
   "metadata": {},
   "outputs": [],
   "source": [
    "#Range Function using Single Parameter\n",
    "for x in range(7):\n",
    "    print(x,end=\" \")"
   ]
  },
  {
   "cell_type": "code",
   "execution_count": null,
   "id": "837fb65a",
   "metadata": {},
   "outputs": [],
   "source": [
    "#Range Function with Double Parameter\n",
    "for x in range(10,20):\n",
    "    print(x , end=\" \")"
   ]
  },
  {
   "cell_type": "code",
   "execution_count": null,
   "id": "3b85ad00",
   "metadata": {},
   "outputs": [],
   "source": [
    "#Range Function with Triple Parameter\n",
    "for x in range(1,10,2):\n",
    "    print(x,end = \" \")"
   ]
  },
  {
   "cell_type": "code",
   "execution_count": null,
   "id": "9dfe0fde",
   "metadata": {},
   "outputs": [],
   "source": [
    "#Write a python to print the table of user entered value and till the user entered range\n",
    "num=int(input(\"Enter the Number to print the Table\"))\n",
    "limit=int(input(\"Enter the range\"))\n",
    "for x in range(1,limit+1):\n",
    "    print(num, \"*\",x,\"=\",num*x)"
   ]
  },
  {
   "cell_type": "code",
   "execution_count": null,
   "id": "a6e7207d",
   "metadata": {},
   "outputs": [],
   "source": [
    "#Write a program to print the cube of all numbers from 1 to a given number\n",
    "num=int(input(\"Enter the Number\"))\n",
    "for i in range(1,num+1):\n",
    "    print(\"Cube of\",i,\"is\",i*i*i)"
   ]
  },
  {
   "cell_type": "markdown",
   "id": "9e363800",
   "metadata": {},
   "source": [
    "# If-else in for loop"
   ]
  },
  {
   "cell_type": "markdown",
   "id": "022cdad9",
   "metadata": {},
   "source": [
    "\n",
    "When the if-else condition is used inside the loop, the interpreter checks the if condition in each iteration, and the correct block gets executed depending on the result."
   ]
  },
  {
   "cell_type": "code",
   "execution_count": null,
   "id": "64863beb",
   "metadata": {},
   "outputs": [],
   "source": [
    "#Write a python program to display the even and odd Number in user entered range\n",
    "num=int(input(\"Enter the Number\"))\n",
    "for i in range(1, num):\n",
    "    if i % 2 == 0:\n",
    "        print('Even Number:', i)\n",
    "    else:\n",
    "        print('Odd Number:', i)"
   ]
  },
  {
   "cell_type": "code",
   "execution_count": null,
   "id": "bf7b6225",
   "metadata": {},
   "outputs": [],
   "source": [
    "#write a python program to calculate the total even and odd number in range\n",
    "num=int(input(\"Enter the Number\"))\n",
    "ecount=ocount=0\n",
    "for i in range(1, num+1):\n",
    "    if i % 2 == 0:\n",
    "        ecount+=1\n",
    "    else:\n",
    "        ocount+=1\n",
    "        \n",
    "print(\"Total Even Numbers are \",ecount)\n",
    "print(\"Total Odd Numbers are \",ocount)\n"
   ]
  },
  {
   "cell_type": "code",
   "execution_count": null,
   "id": "e5565dc5",
   "metadata": {},
   "outputs": [],
   "source": [
    "#write a python program to calculate the sum of even and odd number in range\n",
    "num=int(input(\"Enter the Number\"))\n",
    "esum=osum=0\n",
    "for i in range(1, num+1):\n",
    "    if i % 2 == 0:\n",
    "        esum+=i\n",
    "    else:\n",
    "        osum+=i\n",
    "        \n",
    "print(\"Total Even Numbers are \",esum)\n",
    "print(\"Total Odd Numbers are \",osum)\n"
   ]
  },
  {
   "cell_type": "code",
   "execution_count": null,
   "id": "51ef8a14",
   "metadata": {},
   "outputs": [],
   "source": [
    "#write a python program to accept the starting ending point from the user and find the number divisible by number 2 and 3\n"
   ]
  }
 ],
 "metadata": {
  "kernelspec": {
   "display_name": "Python 3 (ipykernel)",
   "language": "python",
   "name": "python3"
  },
  "language_info": {
   "codemirror_mode": {
    "name": "ipython",
    "version": 3
   },
   "file_extension": ".py",
   "mimetype": "text/x-python",
   "name": "python",
   "nbconvert_exporter": "python",
   "pygments_lexer": "ipython3",
   "version": "3.9.13"
  }
 },
 "nbformat": 4,
 "nbformat_minor": 5
}
